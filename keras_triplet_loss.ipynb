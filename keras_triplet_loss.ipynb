{
  "nbformat": 4,
  "nbformat_minor": 0,
  "metadata": {
    "colab": {
      "name": "keras-triplet-loss.ipynb",
      "provenance": [],
      "collapsed_sections": []
    },
    "kernelspec": {
      "name": "python3",
      "display_name": "Python 3"
    },
    "accelerator": "GPU"
  },
  "cells": [
    {
      "cell_type": "code",
      "metadata": {
        "id": "5sN8SKjnmQxc",
        "colab_type": "code",
        "colab": {}
      },
      "source": [
        "import keras\n",
        "from keras.datasets import mnist\n",
        "from keras.models import Sequential\n",
        "from keras.layers import Dense, Dropout, Flatten, Lambda\n",
        "from keras.layers import Conv2D, MaxPooling2D\n",
        "from keras import backend as K\n",
        "import numpy as np\n",
        "\n",
        "from triplet_loss import batch_hard_triplet_loss"
      ],
      "execution_count": 0,
      "outputs": []
    },
    {
      "cell_type": "markdown",
      "metadata": {
        "id": "3-327dUomIHv",
        "colab_type": "text"
      },
      "source": [
        "# Loading and pre-processing the MNIST dataset"
      ]
    },
    {
      "cell_type": "code",
      "metadata": {
        "id": "3Ss_Q_mIlkk4",
        "colab_type": "code",
        "colab": {
          "base_uri": "https://localhost:8080/",
          "height": 51
        },
        "outputId": "690c555d-e60e-4f7e-addc-51fb38181758"
      },
      "source": [
        "(x_train, y_train), (x_test, y_test) = mnist.load_data()"
      ],
      "execution_count": 3,
      "outputs": [
        {
          "output_type": "stream",
          "text": [
            "Downloading data from https://s3.amazonaws.com/img-datasets/mnist.npz\n",
            "11493376/11490434 [==============================] - 2s 0us/step\n"
          ],
          "name": "stdout"
        }
      ]
    },
    {
      "cell_type": "code",
      "metadata": {
        "id": "R1sOpgvVm91j",
        "colab_type": "code",
        "colab": {}
      },
      "source": [
        "x_train = np.expand_dims(x_train,-1)\n",
        "x_test = np.expand_dims(x_test,-1)"
      ],
      "execution_count": 0,
      "outputs": []
    },
    {
      "cell_type": "code",
      "metadata": {
        "id": "3zWClM0SnFXy",
        "colab_type": "code",
        "colab": {}
      },
      "source": [
        "assert(x_train.shape[1:] == (28,28,1))\n",
        "assert(x_test.shape[1:] == (28,28,1))"
      ],
      "execution_count": 0,
      "outputs": []
    },
    {
      "cell_type": "code",
      "metadata": {
        "id": "sdS47h3FlpaF",
        "colab_type": "code",
        "colab": {}
      },
      "source": [
        "x_train = x_train.astype('float32')\n",
        "x_test = x_test.astype('float32')\n",
        "x_train /= 255\n",
        "x_test /= 255"
      ],
      "execution_count": 0,
      "outputs": []
    },
    {
      "cell_type": "code",
      "metadata": {
        "id": "24C1zwyett8F",
        "colab_type": "code",
        "colab": {}
      },
      "source": [
        "assert(y_train.dtype == np.uint8)\n",
        "assert(y_test.dtype == np.uint8)"
      ],
      "execution_count": 0,
      "outputs": []
    },
    {
      "cell_type": "markdown",
      "metadata": {
        "id": "mwzlzPTqnbUA",
        "colab_type": "text"
      },
      "source": [
        "# Building a simple Convolutional Neural Network with Triplet Loss"
      ]
    },
    {
      "cell_type": "code",
      "metadata": {
        "id": "bxku5FFHrJa8",
        "colab_type": "code",
        "colab": {}
      },
      "source": [
        "batch_size = 64\n",
        "epochs = 20\n",
        "learning_rate = 1e-4\n",
        "embedding_size = 64"
      ],
      "execution_count": 0,
      "outputs": []
    },
    {
      "cell_type": "code",
      "metadata": {
        "id": "skebCdFjqbzC",
        "colab_type": "code",
        "colab": {}
      },
      "source": [
        "# default in Tensorflow\n",
        "K.set_image_data_format(\"channels_last\")"
      ],
      "execution_count": 0,
      "outputs": []
    },
    {
      "cell_type": "code",
      "metadata": {
        "id": "GnD4aJN3ntqV",
        "colab_type": "code",
        "colab": {}
      },
      "source": [
        "def keras_batch_hard_triplet_loss(labels, y_pred):\n",
        "  # As omoindrot's loss functions expect the labels to have shape (batch_size,), labels are flattaned.\n",
        "  # Before flattening, they have shape (batch_size,1)\n",
        "  \n",
        "  labels = K.flatten(labels)\n",
        "  return batch_hard_triplet_loss(labels, y_pred, margin = 0.5)"
      ],
      "execution_count": 0,
      "outputs": []
    },
    {
      "cell_type": "code",
      "metadata": {
        "id": "ZjO3zpttmlb8",
        "colab_type": "code",
        "colab": {}
      },
      "source": [
        "model = Sequential()\n",
        "model.add(Conv2D(32, kernel_size=(3, 3),\n",
        "                 activation='relu',\n",
        "                 input_shape=(28,28,1)))\n",
        "model.add(MaxPooling2D(pool_size=(2, 2)))\n",
        "model.add(Conv2D(64, (3, 3), activation='relu'))\n",
        "model.add(MaxPooling2D(pool_size=(2, 2)))\n",
        "model.add(Dropout(0.25))\n",
        "model.add(Flatten())\n",
        "\n",
        "# last layer is not activated.\n",
        "model.add(Dense(embedding_size, activation='linear'))\n",
        "# Normalizing the created embeddings\n",
        "model.add(Lambda(lambda  x: K.l2_normalize(x,axis=1)))\n",
        "\n",
        "\n",
        "model.compile(loss=keras_batch_hard_triplet_loss,\n",
        "              optimizer=keras.optimizers.Adam(learning_rate))"
      ],
      "execution_count": 0,
      "outputs": []
    },
    {
      "cell_type": "code",
      "metadata": {
        "id": "WKqfTKVVmyWh",
        "colab_type": "code",
        "colab": {
          "base_uri": "https://localhost:8080/",
          "height": 442
        },
        "outputId": "5ce5d26a-d124-4a81-f30e-71c6bf6fe5a1"
      },
      "source": [
        "print(model.summary())"
      ],
      "execution_count": 14,
      "outputs": [
        {
          "output_type": "stream",
          "text": [
            "Model: \"sequential_2\"\n",
            "_________________________________________________________________\n",
            "Layer (type)                 Output Shape              Param #   \n",
            "=================================================================\n",
            "conv2d_3 (Conv2D)            (None, 26, 26, 32)        320       \n",
            "_________________________________________________________________\n",
            "max_pooling2d_3 (MaxPooling2 (None, 13, 13, 32)        0         \n",
            "_________________________________________________________________\n",
            "conv2d_4 (Conv2D)            (None, 11, 11, 64)        18496     \n",
            "_________________________________________________________________\n",
            "max_pooling2d_4 (MaxPooling2 (None, 5, 5, 64)          0         \n",
            "_________________________________________________________________\n",
            "dropout_2 (Dropout)          (None, 5, 5, 64)          0         \n",
            "_________________________________________________________________\n",
            "flatten_2 (Flatten)          (None, 1600)              0         \n",
            "_________________________________________________________________\n",
            "dense_2 (Dense)              (None, 64)                102464    \n",
            "_________________________________________________________________\n",
            "lambda_2 (Lambda)            (None, 64)                0         \n",
            "=================================================================\n",
            "Total params: 121,280\n",
            "Trainable params: 121,280\n",
            "Non-trainable params: 0\n",
            "_________________________________________________________________\n",
            "None\n"
          ],
          "name": "stdout"
        }
      ]
    },
    {
      "cell_type": "markdown",
      "metadata": {
        "id": "RdFzccf_qn-Z",
        "colab_type": "text"
      },
      "source": [
        "# Training the model"
      ]
    },
    {
      "cell_type": "code",
      "metadata": {
        "id": "MFNKPm-mp9Zq",
        "colab_type": "code",
        "colab": {
          "base_uri": "https://localhost:8080/",
          "height": 731
        },
        "outputId": "d04b2810-ef71-4460-b0fa-30dad01f32bc"
      },
      "source": [
        "model.fit(x_train, y_train,\n",
        "          batch_size=batch_size,\n",
        "          epochs=epochs,\n",
        "          verbose=1,\n",
        "          validation_data=(x_test, y_test))"
      ],
      "execution_count": 15,
      "outputs": [
        {
          "output_type": "stream",
          "text": [
            "Train on 60000 samples, validate on 10000 samples\n",
            "Epoch 1/20\n",
            "60000/60000 [==============================] - 9s 158us/step - loss: 0.5390 - val_loss: 0.5005\n",
            "Epoch 2/20\n",
            "60000/60000 [==============================] - 9s 152us/step - loss: 0.5090 - val_loss: 0.4770\n",
            "Epoch 3/20\n",
            "60000/60000 [==============================] - 9s 151us/step - loss: 0.4137 - val_loss: 0.1964\n",
            "Epoch 4/20\n",
            "60000/60000 [==============================] - 9s 149us/step - loss: 0.2629 - val_loss: 0.1516\n",
            "Epoch 5/20\n",
            "60000/60000 [==============================] - 9s 151us/step - loss: 0.2124 - val_loss: 0.1299\n",
            "Epoch 6/20\n",
            "60000/60000 [==============================] - 9s 150us/step - loss: 0.1864 - val_loss: 0.1178\n",
            "Epoch 7/20\n",
            "60000/60000 [==============================] - 9s 152us/step - loss: 0.1670 - val_loss: 0.1094\n",
            "Epoch 8/20\n",
            "60000/60000 [==============================] - 9s 152us/step - loss: 0.1528 - val_loss: 0.1011\n",
            "Epoch 9/20\n",
            "60000/60000 [==============================] - 9s 151us/step - loss: 0.1391 - val_loss: 0.0976\n",
            "Epoch 10/20\n",
            "60000/60000 [==============================] - 9s 151us/step - loss: 0.1339 - val_loss: 0.0952\n",
            "Epoch 11/20\n",
            "60000/60000 [==============================] - 9s 151us/step - loss: 0.1258 - val_loss: 0.0881\n",
            "Epoch 12/20\n",
            "60000/60000 [==============================] - 9s 152us/step - loss: 0.1187 - val_loss: 0.0863\n",
            "Epoch 13/20\n",
            "60000/60000 [==============================] - 9s 154us/step - loss: 0.1119 - val_loss: 0.0841\n",
            "Epoch 14/20\n",
            "60000/60000 [==============================] - 9s 152us/step - loss: 0.1085 - val_loss: 0.0823\n",
            "Epoch 15/20\n",
            "60000/60000 [==============================] - 9s 152us/step - loss: 0.1043 - val_loss: 0.0809\n",
            "Epoch 16/20\n",
            "60000/60000 [==============================] - 9s 150us/step - loss: 0.1014 - val_loss: 0.0785\n",
            "Epoch 17/20\n",
            "60000/60000 [==============================] - 9s 151us/step - loss: 0.0965 - val_loss: 0.0757\n",
            "Epoch 18/20\n",
            "60000/60000 [==============================] - 9s 151us/step - loss: 0.0941 - val_loss: 0.0772\n",
            "Epoch 19/20\n",
            "60000/60000 [==============================] - 9s 152us/step - loss: 0.0912 - val_loss: 0.0749\n",
            "Epoch 20/20\n",
            "60000/60000 [==============================] - 9s 151us/step - loss: 0.0897 - val_loss: 0.0721\n"
          ],
          "name": "stdout"
        },
        {
          "output_type": "execute_result",
          "data": {
            "text/plain": [
              "<keras.callbacks.History at 0x7f5550c5b320>"
            ]
          },
          "metadata": {
            "tags": []
          },
          "execution_count": 15
        }
      ]
    },
    {
      "cell_type": "markdown",
      "metadata": {
        "id": "lWABPy2_uCk_",
        "colab_type": "text"
      },
      "source": [
        "For further discussion on Triplet Loss / Triplet mining, please see omoindrot's work at https://omoindrot.github.io/triplet-loss and \n",
        "https://github.com/omoindrot/tensorflow-triplet-loss\n",
        "\n",
        "The puspuse of this notebook is to show how to use omoindrot's triplet losses in Keras."
      ]
    }
  ]
}